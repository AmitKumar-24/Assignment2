{
 "cells": [
  {
   "cell_type": "code",
   "execution_count": null,
   "id": "cfaaba61-e610-4003-85e3-7f95aa75a928",
   "metadata": {},
   "outputs": [],
   "source": [
    "# 1. Write a program to accept percentage from the user and display the grade according to the following "
   ]
  },
  {
   "cell_type": "code",
   "execution_count": 17,
   "id": "38c147ea-1259-4101-a3e7-6328e54b0780",
   "metadata": {},
   "outputs": [
    {
     "name": "stdin",
     "output_type": "stream",
     "text": [
      "Enter your percentage  92\n"
     ]
    },
    {
     "name": "stdout",
     "output_type": "stream",
     "text": [
      "grade - A\n"
     ]
    }
   ],
   "source": [
    "marks = int(input('Enter your percentage '))\n",
    "if marks > 90:\n",
    "    print('grade - A')\n",
    "elif marks > 80 and marks <= 90:\n",
    "    print('grade - B')\n",
    "elif marks >= 60 and marks <= 80:\n",
    "    print('grade - C')\n",
    "else :\n",
    "    print('grade - D')"
   ]
  },
  {
   "cell_type": "code",
   "execution_count": 19,
   "id": "337663f0-a183-4ddd-9616-97ba500fda6e",
   "metadata": {},
   "outputs": [],
   "source": [
    "# 2. Write a program to accept the cost price of a bike and display the road tax to be paid according to the \n",
    "# following criteria:"
   ]
  },
  {
   "cell_type": "code",
   "execution_count": 30,
   "id": "e3164732-576f-4643-bffc-52cabbdb81e8",
   "metadata": {},
   "outputs": [
    {
     "name": "stdin",
     "output_type": "stream",
     "text": [
      "Enter the price of the bike  75000\n"
     ]
    },
    {
     "name": "stdout",
     "output_type": "stream",
     "text": [
      "10%\n"
     ]
    }
   ],
   "source": [
    "costPrice = int(input('Enter the price of the bike '))\n",
    "if costPrice > 100000:\n",
    "    print('15%')\n",
    "elif costPrice > 50000 and costPrice <= 100000:\n",
    "    print('10%')\n",
    "else :\n",
    "    print('5%')"
   ]
  },
  {
   "cell_type": "code",
   "execution_count": 29,
   "id": "95864e3f-0a14-4397-b1a4-8f5737c2449f",
   "metadata": {},
   "outputs": [],
   "source": [
    "# 3. Accept any city from the user and display monuments of that city. "
   ]
  },
  {
   "cell_type": "code",
   "execution_count": 38,
   "id": "0cbb6445-012e-49a0-af13-db7af2fc62b5",
   "metadata": {},
   "outputs": [
    {
     "name": "stdin",
     "output_type": "stream",
     "text": [
      "Enter the City Name  Delhi\n"
     ]
    },
    {
     "name": "stdout",
     "output_type": "stream",
     "text": [
      "Red Fort\n"
     ]
    }
   ],
   "source": [
    "City = input('Enter the City Name ')\n",
    "if City == 'Delhi':\n",
    "    print('Red Fort')\n",
    "elif City == 'Agra':\n",
    "    print('Taj Mahal')\n",
    "elif City == 'Jaipur':\n",
    "    print('Jal Mahal')"
   ]
  },
  {
   "cell_type": "code",
   "execution_count": 2,
   "id": "ef0719f3-7a84-46dd-806d-1ff950fb74d2",
   "metadata": {},
   "outputs": [
    {
     "name": "stdout",
     "output_type": "stream",
     "text": [
      "3\n",
      "6\n",
      "9\n"
     ]
    }
   ],
   "source": [
    "# 4. Check how many times a given number can be divided by 3 before it is less than or equal to 10.\n",
    "n = 10\n",
    "i = 1\n",
    "while i <= n:\n",
    "    if i % 3 == 0:\n",
    "        print(i)\n",
    "    i += 1"
   ]
  },
  {
   "cell_type": "code",
   "execution_count": 9,
   "id": "367c9bd6-754d-4029-9e87-bbe575323f1c",
   "metadata": {},
   "outputs": [],
   "source": [
    "# 5. Why and When to Use while Loop in Python give a detailed description with example \n",
    "# ans -> while loop is used to run a block of code until a certain condition is met.\n",
    "# while loop is used when the number of iteration is already known. in while loop it can be repeated at every iterated.\n",
    "# for ex -> if we want to ask a number between 1 and 10, we don't know how many times the user may enter a large number,\n",
    "# so we keep asking 'while the number is not between 1 and 10'."
   ]
  },
  {
   "cell_type": "code",
   "execution_count": 4,
   "id": "e27885e1-a85a-4d15-8636-9becc5460ad6",
   "metadata": {},
   "outputs": [
    {
     "name": "stdout",
     "output_type": "stream",
     "text": [
      "* * * * * \n",
      "* * * * \n",
      "* * * \n",
      "* * \n",
      "* \n"
     ]
    }
   ],
   "source": [
    "# 6. Use nested while loop to print 3 different pattern. \n",
    "n = 5\n",
    "i = 1\n",
    "while i <= n:\n",
    "    j = n\n",
    "    while j >= i:\n",
    "        print('*', end = ' ')\n",
    "        j -= 1\n",
    "    print()\n",
    "    i += 1"
   ]
  },
  {
   "cell_type": "code",
   "execution_count": 5,
   "id": "6e3ab599-beb8-455e-87ea-8f977e4ecd6f",
   "metadata": {},
   "outputs": [
    {
     "name": "stdout",
     "output_type": "stream",
     "text": [
      "1 \n",
      "1 2 \n",
      "1 2 3 \n",
      "1 2 3 4 \n"
     ]
    }
   ],
   "source": [
    "n = 5\n",
    "i = 1\n",
    "while i < n:\n",
    "    j = 1\n",
    "    while j <= i:\n",
    "        print(j, end = ' ')\n",
    "        j+=1\n",
    "    print()\n",
    "    i += 1"
   ]
  },
  {
   "cell_type": "code",
   "execution_count": 6,
   "id": "c45021db-2e02-45d2-b8aa-e0a4be8245be",
   "metadata": {},
   "outputs": [
    {
     "name": "stdout",
     "output_type": "stream",
     "text": [
      "* * * * * \n",
      "* * * * * \n",
      "* * * * * \n",
      "* * * * * \n"
     ]
    }
   ],
   "source": [
    "n = 5\n",
    "i = 1\n",
    "while i < n:\n",
    "    j = 1\n",
    "    while j <= n:\n",
    "        print('*', end = ' ')\n",
    "        j +=1\n",
    "    print()\n",
    "    i +=1"
   ]
  },
  {
   "cell_type": "code",
   "execution_count": 7,
   "id": "a39080cb-a2ea-4e04-a3da-dad046c9935f",
   "metadata": {},
   "outputs": [
    {
     "name": "stdout",
     "output_type": "stream",
     "text": [
      "10\n",
      "9\n",
      "8\n",
      "7\n",
      "6\n",
      "5\n",
      "4\n",
      "3\n",
      "2\n",
      "1\n"
     ]
    }
   ],
   "source": [
    "# 7. Reverse a while loop to display numbers from 10 to 1. \n",
    "n = 10\n",
    "while n >= 1:\n",
    "    print(n)\n",
    "    n -= 1"
   ]
  },
  {
   "cell_type": "code",
   "execution_count": 8,
   "id": "208b048b-e0b6-412f-9519-a750b4110983",
   "metadata": {},
   "outputs": [
    {
     "name": "stdout",
     "output_type": "stream",
     "text": [
      "10 9 8 7 6 5 4 3 2 1 "
     ]
    }
   ],
   "source": [
    "# 8. Reverse a while loop to display numbers from 10 to 1 \n",
    "n = 10\n",
    "while n >= 1:\n",
    "    print(n , end = ' ')\n",
    "    n -= 1"
   ]
  },
  {
   "cell_type": "code",
   "execution_count": null,
   "id": "a45b4559-89fd-488d-a895-2a29a4edb757",
   "metadata": {},
   "outputs": [],
   "source": []
  },
  {
   "cell_type": "code",
   "execution_count": null,
   "id": "5676afbd-7e25-4323-bde2-479c6e4d3e55",
   "metadata": {},
   "outputs": [],
   "source": []
  }
 ],
 "metadata": {
  "kernelspec": {
   "display_name": "Python 3 (ipykernel)",
   "language": "python",
   "name": "python3"
  },
  "language_info": {
   "codemirror_mode": {
    "name": "ipython",
    "version": 3
   },
   "file_extension": ".py",
   "mimetype": "text/x-python",
   "name": "python",
   "nbconvert_exporter": "python",
   "pygments_lexer": "ipython3",
   "version": "3.10.8"
  }
 },
 "nbformat": 4,
 "nbformat_minor": 5
}
